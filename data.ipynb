{
 "cells": [
  {
   "cell_type": "code",
   "execution_count": 13,
   "id": "5a853fe9",
   "metadata": {},
   "outputs": [
    {
     "name": "stdout",
     "output_type": "stream",
     "text": [
      "Run id запуска: 7c25a5b85674482ca81f592a5def92fa\n",
      "Experiment ID: 509864494489441911\n",
      "Tracking URI: file:./mlflow_experiments_store\n"
     ]
    }
   ],
   "source": [
    "import os\n",
    "import mlflow\n",
    "\n",
    "# Устанавливаем локальное хранилище\n",
    "mlflow.set_tracking_uri('file:./mlflow_experiments_store')\n",
    "\n",
    "# Создаём эксперимент \"Default\" если он не существует\n",
    "experiment = mlflow.get_experiment_by_name(\"Default\")\n",
    "if experiment is None:\n",
    "    experiment_id = mlflow.create_experiment(\"Default\")\n",
    "else:\n",
    "    experiment_id = experiment.experiment_id\n",
    "\n",
    "# Логируем тестовую метрику и артефакт\n",
    "with mlflow.start_run(run_name='Default', experiment_id=experiment_id) as run:\n",
    "    run_id = run.info.run_id\n",
    "    mlflow.log_metric(\"test_metric\", 0)\n",
    "    mlflow.log_artifact(\"test_artifact.txt\", \"test_artifact\")\n",
    "\n",
    "print(f\"Run id запуска: {run_id}\")\n",
    "\n",
    "print(f\"Experiment ID: {experiment_id}\")\n",
    "print(f\"Tracking URI: {mlflow.get_tracking_uri()}\")"
   ]
  }
 ],
 "metadata": {
  "kernelspec": {
   "display_name": "Python 3",
   "language": "python",
   "name": "python3"
  },
  "language_info": {
   "codemirror_mode": {
    "name": "ipython",
    "version": 3
   },
   "file_extension": ".py",
   "mimetype": "text/x-python",
   "name": "python",
   "nbconvert_exporter": "python",
   "pygments_lexer": "ipython3",
   "version": "3.10.12"
  }
 },
 "nbformat": 4,
 "nbformat_minor": 5
}
