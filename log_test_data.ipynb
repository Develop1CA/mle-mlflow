{
 "cells": [
  {
   "cell_type": "code",
   "execution_count": 1,
   "id": "5809bdf8",
   "metadata": {},
   "outputs": [
    {
     "name": "stdout",
     "output_type": "stream",
     "text": [
      "   id customer_id begin_date   end_date            type paperless_billing  \\\n",
      "0   1  7590-VHVEG 2020-01-01        NaT  Month-to-month               Yes   \n",
      "1   2  5575-GNVDE 2017-04-01        NaT        One year                No   \n",
      "2   3  3668-QPYBK 2019-10-01 2019-12-01  Month-to-month               Yes   \n",
      "3   4  7795-CFOCW 2016-05-01        NaT        One year                No   \n",
      "4   5  9237-HQITU 2019-09-01 2019-11-01  Month-to-month               Yes   \n",
      "\n",
      "              payment_method  monthly_charges  total_charges internet_service  \\\n",
      "0           Electronic check            29.85          29.85              DSL   \n",
      "1               Mailed check            56.95        1889.50              DSL   \n",
      "2               Mailed check            53.85         108.15              DSL   \n",
      "3  Bank transfer (automatic)            42.30        1840.75              DSL   \n",
      "4           Electronic check            70.70         151.65      Fiber optic   \n",
      "\n",
      "   ... device_protection tech_support streaming_tv streaming_movies  gender  \\\n",
      "0  ...                No           No           No               No  Female   \n",
      "1  ...               Yes           No           No               No    Male   \n",
      "2  ...                No           No           No               No    Male   \n",
      "3  ...               Yes          Yes           No               No    Male   \n",
      "4  ...                No           No           No               No  Female   \n",
      "\n",
      "  senior_citizen partner  dependents multiple_lines target  \n",
      "0              0     Yes          No           None      0  \n",
      "1              0      No          No             No      0  \n",
      "2              0      No          No             No      1  \n",
      "3              0      No          No           None      0  \n",
      "4              0      No          No             No      1  \n",
      "\n",
      "[5 rows x 22 columns]\n"
     ]
    }
   ],
   "source": [
    "import os\n",
    "from dotenv import load_dotenv\n",
    "import psycopg\n",
    "import pandas as pd\n",
    "\n",
    "# Загружаем переменные из .env\n",
    "load_dotenv()\n",
    "\n",
    "# Подключение к базе данных PostgreSQL\n",
    "connection = {\n",
    "    \"sslmode\": \"require\",\n",
    "    \"target_session_attrs\": \"read-write\"\n",
    "}\n",
    "\n",
    "postgres_credentials = {\n",
    "    \"host\": os.getenv(\"DB_DESTINATION_HOST\"),\n",
    "    \"port\": os.getenv(\"DB_DESTINATION_PORT\"),\n",
    "    \"dbname\": os.getenv(\"DB_DESTINATION_NAME\"),\n",
    "    \"user\": os.getenv(\"DB_DESTINATION_USER\"),\n",
    "    \"password\": os.getenv(\"DB_DESTINATION_PASSWORD\")\n",
    "}\n",
    "\n",
    "# Проверяем, что все значения определены\n",
    "assert all([v not in (None, \"\") for v in postgres_credentials.values()]), \"Некоторые значения из .env не загружены\"\n",
    "\n",
    "# Объединяем параметры соединения\n",
    "connection.update(postgres_credentials)\n",
    "\n",
    "# Название таблицы\n",
    "TABLE_NAME = \"users_churn\"\n",
    "\n",
    "# Подключаемся и загружаем данные в DataFrame\n",
    "with psycopg.connect(**connection) as conn:\n",
    "    with conn.cursor() as cur:\n",
    "        cur.execute(f\"SELECT * FROM {TABLE_NAME}\")\n",
    "        data = cur.fetchall()\n",
    "        columns = [col[0] for col in cur.description]\n",
    "\n",
    "df = pd.DataFrame(data, columns=columns)\n",
    "\n",
    "# Проверяем результат\n",
    "print(df.head())\n"
   ]
  },
  {
   "cell_type": "code",
   "execution_count": null,
   "id": "c1406960",
   "metadata": {},
   "outputs": [],
   "source": [
    "# 1. Название колонок вашего датафрейма запишите в текстовый файл\n",
    "with open(\"columns_sol.txt\", \"w\", encoding=\"utf-8\") as fio:\n",
    "    fio.write(\",\".join(df.columns))\n"
   ]
  }
 ],
 "metadata": {
  "kernelspec": {
   "display_name": "Python 3",
   "language": "python",
   "name": "python3"
  },
  "language_info": {
   "codemirror_mode": {
    "name": "ipython",
    "version": 3
   },
   "file_extension": ".py",
   "mimetype": "text/x-python",
   "name": "python",
   "nbconvert_exporter": "python",
   "pygments_lexer": "ipython3",
   "version": "3.10.12"
  }
 },
 "nbformat": 4,
 "nbformat_minor": 5
}
